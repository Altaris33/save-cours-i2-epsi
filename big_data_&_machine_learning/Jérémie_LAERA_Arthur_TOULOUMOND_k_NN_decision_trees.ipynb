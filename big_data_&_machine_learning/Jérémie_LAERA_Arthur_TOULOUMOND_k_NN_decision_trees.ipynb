{
  "nbformat": 4,
  "nbformat_minor": 0,
  "metadata": {
    "kernelspec": {
      "display_name": "Python 3",
      "language": "python",
      "name": "python3"
    },
    "language_info": {
      "codemirror_mode": {
        "name": "ipython",
        "version": 3
      },
      "file_extension": ".py",
      "mimetype": "text/x-python",
      "name": "python",
      "nbconvert_exporter": "python",
      "pygments_lexer": "ipython3",
      "version": "3.9.1"
    },
    "colab": {
      "name": "Jérémie_LAERA_Arthur_TOULOUMOND_k-NN_decision_trees.ipynb",
      "provenance": [],
      "collapsed_sections": [],
      "toc_visible": true
    }
  },
  "cells": [
    {
      "cell_type": "markdown",
      "metadata": {
        "id": "6epEqkYeenJ6"
      },
      "source": [
        "# 1. Entrainement k-NN sur des digits"
      ]
    },
    {
      "cell_type": "code",
      "metadata": {
        "id": "n5yh83ypenJ-"
      },
      "source": [
        "from sklearn.datasets import * ## chargement du package datasets contenant plusieurs jeu de données\n",
        "import pandas as pd ## Chargement de Pandas\n",
        "import matplotlib.pyplot as plt ## import de Matplotlib\n",
        "\n",
        "from sklearn.model_selection import train_test_split ## classe utilitaire pour découper les jeux de données\n",
        "from sklearn.neighbors import KNeighborsClassifier ## import de la classe de K-NN"
      ],
      "execution_count": null,
      "outputs": []
    },
    {
      "cell_type": "code",
      "metadata": {
        "id": "xNXdrplWenJ_"
      },
      "source": [
        "#Méthodes displayImage et plot_digits pour afficher des données images (méthode optionnelle)\n",
        "def displayImage(i):\n",
        "    plt.imshow(digit['images'][i], cmap='Greys_r')\n",
        "    plt.show()\n",
        "\n",
        "\n",
        "def plot_digits(data):\n",
        "    fig, axes = plt.subplots(4, 10, figsize=(10, 4),\n",
        "                             subplot_kw={'xticks':[], 'yticks':[]},\n",
        "                             gridspec_kw=dict(hspace=0.1, wspace=0.1))\n",
        "    for i, ax in enumerate(axes.flat):\n",
        "        ax.imshow(data[i].reshape(8, 8),\n",
        "                  cmap='binary', interpolation='nearest',\n",
        "                  clim=(0, 16))"
      ],
      "execution_count": null,
      "outputs": []
    },
    {
      "cell_type": "code",
      "metadata": {
        "colab": {
          "base_uri": "https://localhost:8080/",
          "height": 224
        },
        "id": "40SEJKmuenJ_",
        "outputId": "1946f343-1ace-419d-e13e-a3968818b68e"
      },
      "source": [
        "#Affichage de jeu de données \n",
        "digit = load_digits() # chargement du dataset MNIST\n",
        "dig = pd.DataFrame(digit['data'][0:1700]) # Création d'un dataframe Panda\n",
        "dig.head() # affiche le tableau ci-dessous"
      ],
      "execution_count": null,
      "outputs": [
        {
          "output_type": "execute_result",
          "data": {
            "text/html": [
              "<div>\n",
              "<style scoped>\n",
              "    .dataframe tbody tr th:only-of-type {\n",
              "        vertical-align: middle;\n",
              "    }\n",
              "\n",
              "    .dataframe tbody tr th {\n",
              "        vertical-align: top;\n",
              "    }\n",
              "\n",
              "    .dataframe thead th {\n",
              "        text-align: right;\n",
              "    }\n",
              "</style>\n",
              "<table border=\"1\" class=\"dataframe\">\n",
              "  <thead>\n",
              "    <tr style=\"text-align: right;\">\n",
              "      <th></th>\n",
              "      <th>0</th>\n",
              "      <th>1</th>\n",
              "      <th>2</th>\n",
              "      <th>3</th>\n",
              "      <th>4</th>\n",
              "      <th>5</th>\n",
              "      <th>6</th>\n",
              "      <th>7</th>\n",
              "      <th>8</th>\n",
              "      <th>9</th>\n",
              "      <th>10</th>\n",
              "      <th>11</th>\n",
              "      <th>12</th>\n",
              "      <th>13</th>\n",
              "      <th>14</th>\n",
              "      <th>15</th>\n",
              "      <th>16</th>\n",
              "      <th>17</th>\n",
              "      <th>18</th>\n",
              "      <th>19</th>\n",
              "      <th>20</th>\n",
              "      <th>21</th>\n",
              "      <th>22</th>\n",
              "      <th>23</th>\n",
              "      <th>24</th>\n",
              "      <th>25</th>\n",
              "      <th>26</th>\n",
              "      <th>27</th>\n",
              "      <th>28</th>\n",
              "      <th>29</th>\n",
              "      <th>30</th>\n",
              "      <th>31</th>\n",
              "      <th>32</th>\n",
              "      <th>33</th>\n",
              "      <th>34</th>\n",
              "      <th>35</th>\n",
              "      <th>36</th>\n",
              "      <th>37</th>\n",
              "      <th>38</th>\n",
              "      <th>39</th>\n",
              "      <th>40</th>\n",
              "      <th>41</th>\n",
              "      <th>42</th>\n",
              "      <th>43</th>\n",
              "      <th>44</th>\n",
              "      <th>45</th>\n",
              "      <th>46</th>\n",
              "      <th>47</th>\n",
              "      <th>48</th>\n",
              "      <th>49</th>\n",
              "      <th>50</th>\n",
              "      <th>51</th>\n",
              "      <th>52</th>\n",
              "      <th>53</th>\n",
              "      <th>54</th>\n",
              "      <th>55</th>\n",
              "      <th>56</th>\n",
              "      <th>57</th>\n",
              "      <th>58</th>\n",
              "      <th>59</th>\n",
              "      <th>60</th>\n",
              "      <th>61</th>\n",
              "      <th>62</th>\n",
              "      <th>63</th>\n",
              "    </tr>\n",
              "  </thead>\n",
              "  <tbody>\n",
              "    <tr>\n",
              "      <th>0</th>\n",
              "      <td>0.0</td>\n",
              "      <td>0.0</td>\n",
              "      <td>5.0</td>\n",
              "      <td>13.0</td>\n",
              "      <td>9.0</td>\n",
              "      <td>1.0</td>\n",
              "      <td>0.0</td>\n",
              "      <td>0.0</td>\n",
              "      <td>0.0</td>\n",
              "      <td>0.0</td>\n",
              "      <td>13.0</td>\n",
              "      <td>15.0</td>\n",
              "      <td>10.0</td>\n",
              "      <td>15.0</td>\n",
              "      <td>5.0</td>\n",
              "      <td>0.0</td>\n",
              "      <td>0.0</td>\n",
              "      <td>3.0</td>\n",
              "      <td>15.0</td>\n",
              "      <td>2.0</td>\n",
              "      <td>0.0</td>\n",
              "      <td>11.0</td>\n",
              "      <td>8.0</td>\n",
              "      <td>0.0</td>\n",
              "      <td>0.0</td>\n",
              "      <td>4.0</td>\n",
              "      <td>12.0</td>\n",
              "      <td>0.0</td>\n",
              "      <td>0.0</td>\n",
              "      <td>8.0</td>\n",
              "      <td>8.0</td>\n",
              "      <td>0.0</td>\n",
              "      <td>0.0</td>\n",
              "      <td>5.0</td>\n",
              "      <td>8.0</td>\n",
              "      <td>0.0</td>\n",
              "      <td>0.0</td>\n",
              "      <td>9.0</td>\n",
              "      <td>8.0</td>\n",
              "      <td>0.0</td>\n",
              "      <td>0.0</td>\n",
              "      <td>4.0</td>\n",
              "      <td>11.0</td>\n",
              "      <td>0.0</td>\n",
              "      <td>1.0</td>\n",
              "      <td>12.0</td>\n",
              "      <td>7.0</td>\n",
              "      <td>0.0</td>\n",
              "      <td>0.0</td>\n",
              "      <td>2.0</td>\n",
              "      <td>14.0</td>\n",
              "      <td>5.0</td>\n",
              "      <td>10.0</td>\n",
              "      <td>12.0</td>\n",
              "      <td>0.0</td>\n",
              "      <td>0.0</td>\n",
              "      <td>0.0</td>\n",
              "      <td>0.0</td>\n",
              "      <td>6.0</td>\n",
              "      <td>13.0</td>\n",
              "      <td>10.0</td>\n",
              "      <td>0.0</td>\n",
              "      <td>0.0</td>\n",
              "      <td>0.0</td>\n",
              "    </tr>\n",
              "    <tr>\n",
              "      <th>1</th>\n",
              "      <td>0.0</td>\n",
              "      <td>0.0</td>\n",
              "      <td>0.0</td>\n",
              "      <td>12.0</td>\n",
              "      <td>13.0</td>\n",
              "      <td>5.0</td>\n",
              "      <td>0.0</td>\n",
              "      <td>0.0</td>\n",
              "      <td>0.0</td>\n",
              "      <td>0.0</td>\n",
              "      <td>0.0</td>\n",
              "      <td>11.0</td>\n",
              "      <td>16.0</td>\n",
              "      <td>9.0</td>\n",
              "      <td>0.0</td>\n",
              "      <td>0.0</td>\n",
              "      <td>0.0</td>\n",
              "      <td>0.0</td>\n",
              "      <td>3.0</td>\n",
              "      <td>15.0</td>\n",
              "      <td>16.0</td>\n",
              "      <td>6.0</td>\n",
              "      <td>0.0</td>\n",
              "      <td>0.0</td>\n",
              "      <td>0.0</td>\n",
              "      <td>7.0</td>\n",
              "      <td>15.0</td>\n",
              "      <td>16.0</td>\n",
              "      <td>16.0</td>\n",
              "      <td>2.0</td>\n",
              "      <td>0.0</td>\n",
              "      <td>0.0</td>\n",
              "      <td>0.0</td>\n",
              "      <td>0.0</td>\n",
              "      <td>1.0</td>\n",
              "      <td>16.0</td>\n",
              "      <td>16.0</td>\n",
              "      <td>3.0</td>\n",
              "      <td>0.0</td>\n",
              "      <td>0.0</td>\n",
              "      <td>0.0</td>\n",
              "      <td>0.0</td>\n",
              "      <td>1.0</td>\n",
              "      <td>16.0</td>\n",
              "      <td>16.0</td>\n",
              "      <td>6.0</td>\n",
              "      <td>0.0</td>\n",
              "      <td>0.0</td>\n",
              "      <td>0.0</td>\n",
              "      <td>0.0</td>\n",
              "      <td>1.0</td>\n",
              "      <td>16.0</td>\n",
              "      <td>16.0</td>\n",
              "      <td>6.0</td>\n",
              "      <td>0.0</td>\n",
              "      <td>0.0</td>\n",
              "      <td>0.0</td>\n",
              "      <td>0.0</td>\n",
              "      <td>0.0</td>\n",
              "      <td>11.0</td>\n",
              "      <td>16.0</td>\n",
              "      <td>10.0</td>\n",
              "      <td>0.0</td>\n",
              "      <td>0.0</td>\n",
              "    </tr>\n",
              "    <tr>\n",
              "      <th>2</th>\n",
              "      <td>0.0</td>\n",
              "      <td>0.0</td>\n",
              "      <td>0.0</td>\n",
              "      <td>4.0</td>\n",
              "      <td>15.0</td>\n",
              "      <td>12.0</td>\n",
              "      <td>0.0</td>\n",
              "      <td>0.0</td>\n",
              "      <td>0.0</td>\n",
              "      <td>0.0</td>\n",
              "      <td>3.0</td>\n",
              "      <td>16.0</td>\n",
              "      <td>15.0</td>\n",
              "      <td>14.0</td>\n",
              "      <td>0.0</td>\n",
              "      <td>0.0</td>\n",
              "      <td>0.0</td>\n",
              "      <td>0.0</td>\n",
              "      <td>8.0</td>\n",
              "      <td>13.0</td>\n",
              "      <td>8.0</td>\n",
              "      <td>16.0</td>\n",
              "      <td>0.0</td>\n",
              "      <td>0.0</td>\n",
              "      <td>0.0</td>\n",
              "      <td>0.0</td>\n",
              "      <td>1.0</td>\n",
              "      <td>6.0</td>\n",
              "      <td>15.0</td>\n",
              "      <td>11.0</td>\n",
              "      <td>0.0</td>\n",
              "      <td>0.0</td>\n",
              "      <td>0.0</td>\n",
              "      <td>1.0</td>\n",
              "      <td>8.0</td>\n",
              "      <td>13.0</td>\n",
              "      <td>15.0</td>\n",
              "      <td>1.0</td>\n",
              "      <td>0.0</td>\n",
              "      <td>0.0</td>\n",
              "      <td>0.0</td>\n",
              "      <td>9.0</td>\n",
              "      <td>16.0</td>\n",
              "      <td>16.0</td>\n",
              "      <td>5.0</td>\n",
              "      <td>0.0</td>\n",
              "      <td>0.0</td>\n",
              "      <td>0.0</td>\n",
              "      <td>0.0</td>\n",
              "      <td>3.0</td>\n",
              "      <td>13.0</td>\n",
              "      <td>16.0</td>\n",
              "      <td>16.0</td>\n",
              "      <td>11.0</td>\n",
              "      <td>5.0</td>\n",
              "      <td>0.0</td>\n",
              "      <td>0.0</td>\n",
              "      <td>0.0</td>\n",
              "      <td>0.0</td>\n",
              "      <td>3.0</td>\n",
              "      <td>11.0</td>\n",
              "      <td>16.0</td>\n",
              "      <td>9.0</td>\n",
              "      <td>0.0</td>\n",
              "    </tr>\n",
              "    <tr>\n",
              "      <th>3</th>\n",
              "      <td>0.0</td>\n",
              "      <td>0.0</td>\n",
              "      <td>7.0</td>\n",
              "      <td>15.0</td>\n",
              "      <td>13.0</td>\n",
              "      <td>1.0</td>\n",
              "      <td>0.0</td>\n",
              "      <td>0.0</td>\n",
              "      <td>0.0</td>\n",
              "      <td>8.0</td>\n",
              "      <td>13.0</td>\n",
              "      <td>6.0</td>\n",
              "      <td>15.0</td>\n",
              "      <td>4.0</td>\n",
              "      <td>0.0</td>\n",
              "      <td>0.0</td>\n",
              "      <td>0.0</td>\n",
              "      <td>2.0</td>\n",
              "      <td>1.0</td>\n",
              "      <td>13.0</td>\n",
              "      <td>13.0</td>\n",
              "      <td>0.0</td>\n",
              "      <td>0.0</td>\n",
              "      <td>0.0</td>\n",
              "      <td>0.0</td>\n",
              "      <td>0.0</td>\n",
              "      <td>2.0</td>\n",
              "      <td>15.0</td>\n",
              "      <td>11.0</td>\n",
              "      <td>1.0</td>\n",
              "      <td>0.0</td>\n",
              "      <td>0.0</td>\n",
              "      <td>0.0</td>\n",
              "      <td>0.0</td>\n",
              "      <td>0.0</td>\n",
              "      <td>1.0</td>\n",
              "      <td>12.0</td>\n",
              "      <td>12.0</td>\n",
              "      <td>1.0</td>\n",
              "      <td>0.0</td>\n",
              "      <td>0.0</td>\n",
              "      <td>0.0</td>\n",
              "      <td>0.0</td>\n",
              "      <td>0.0</td>\n",
              "      <td>1.0</td>\n",
              "      <td>10.0</td>\n",
              "      <td>8.0</td>\n",
              "      <td>0.0</td>\n",
              "      <td>0.0</td>\n",
              "      <td>0.0</td>\n",
              "      <td>8.0</td>\n",
              "      <td>4.0</td>\n",
              "      <td>5.0</td>\n",
              "      <td>14.0</td>\n",
              "      <td>9.0</td>\n",
              "      <td>0.0</td>\n",
              "      <td>0.0</td>\n",
              "      <td>0.0</td>\n",
              "      <td>7.0</td>\n",
              "      <td>13.0</td>\n",
              "      <td>13.0</td>\n",
              "      <td>9.0</td>\n",
              "      <td>0.0</td>\n",
              "      <td>0.0</td>\n",
              "    </tr>\n",
              "    <tr>\n",
              "      <th>4</th>\n",
              "      <td>0.0</td>\n",
              "      <td>0.0</td>\n",
              "      <td>0.0</td>\n",
              "      <td>1.0</td>\n",
              "      <td>11.0</td>\n",
              "      <td>0.0</td>\n",
              "      <td>0.0</td>\n",
              "      <td>0.0</td>\n",
              "      <td>0.0</td>\n",
              "      <td>0.0</td>\n",
              "      <td>0.0</td>\n",
              "      <td>7.0</td>\n",
              "      <td>8.0</td>\n",
              "      <td>0.0</td>\n",
              "      <td>0.0</td>\n",
              "      <td>0.0</td>\n",
              "      <td>0.0</td>\n",
              "      <td>0.0</td>\n",
              "      <td>1.0</td>\n",
              "      <td>13.0</td>\n",
              "      <td>6.0</td>\n",
              "      <td>2.0</td>\n",
              "      <td>2.0</td>\n",
              "      <td>0.0</td>\n",
              "      <td>0.0</td>\n",
              "      <td>0.0</td>\n",
              "      <td>7.0</td>\n",
              "      <td>15.0</td>\n",
              "      <td>0.0</td>\n",
              "      <td>9.0</td>\n",
              "      <td>8.0</td>\n",
              "      <td>0.0</td>\n",
              "      <td>0.0</td>\n",
              "      <td>5.0</td>\n",
              "      <td>16.0</td>\n",
              "      <td>10.0</td>\n",
              "      <td>0.0</td>\n",
              "      <td>16.0</td>\n",
              "      <td>6.0</td>\n",
              "      <td>0.0</td>\n",
              "      <td>0.0</td>\n",
              "      <td>4.0</td>\n",
              "      <td>15.0</td>\n",
              "      <td>16.0</td>\n",
              "      <td>13.0</td>\n",
              "      <td>16.0</td>\n",
              "      <td>1.0</td>\n",
              "      <td>0.0</td>\n",
              "      <td>0.0</td>\n",
              "      <td>0.0</td>\n",
              "      <td>0.0</td>\n",
              "      <td>3.0</td>\n",
              "      <td>15.0</td>\n",
              "      <td>10.0</td>\n",
              "      <td>0.0</td>\n",
              "      <td>0.0</td>\n",
              "      <td>0.0</td>\n",
              "      <td>0.0</td>\n",
              "      <td>0.0</td>\n",
              "      <td>2.0</td>\n",
              "      <td>16.0</td>\n",
              "      <td>4.0</td>\n",
              "      <td>0.0</td>\n",
              "      <td>0.0</td>\n",
              "    </tr>\n",
              "  </tbody>\n",
              "</table>\n",
              "</div>"
            ],
            "text/plain": [
              "    0    1    2     3     4     5    6   ...   57   58    59    60    61   62   63\n",
              "0  0.0  0.0  5.0  13.0   9.0   1.0  0.0  ...  0.0  6.0  13.0  10.0   0.0  0.0  0.0\n",
              "1  0.0  0.0  0.0  12.0  13.0   5.0  0.0  ...  0.0  0.0  11.0  16.0  10.0  0.0  0.0\n",
              "2  0.0  0.0  0.0   4.0  15.0  12.0  0.0  ...  0.0  0.0   3.0  11.0  16.0  9.0  0.0\n",
              "3  0.0  0.0  7.0  15.0  13.0   1.0  0.0  ...  0.0  7.0  13.0  13.0   9.0  0.0  0.0\n",
              "4  0.0  0.0  0.0   1.0  11.0   0.0  0.0  ...  0.0  0.0   2.0  16.0   4.0  0.0  0.0\n",
              "\n",
              "[5 rows x 64 columns]"
            ]
          },
          "metadata": {
            "tags": []
          },
          "execution_count": 156
        }
      ]
    },
    {
      "cell_type": "code",
      "metadata": {
        "colab": {
          "base_uri": "https://localhost:8080/",
          "height": 500
        },
        "id": "OxXqD_-TenKA",
        "outputId": "0ebd44cb-dbf0-41cb-bcc4-7020803878df"
      },
      "source": [
        "displayImage(0) # affichage de la première image du jeu de données MNIST\n",
        "plot_digits(digit.data)"
      ],
      "execution_count": null,
      "outputs": [
        {
          "output_type": "display_data",
          "data": {
            "image/png": "[encoded data removed]",
            "text/plain": [
              "<Figure size 432x288 with 1 Axes>"
            ]
          },
          "metadata": {
            "tags": [],
            "needs_background": "light"
          }
        },
        {
          "output_type": "display_data",
          "data": {
            "image/png": "[encoded data removed]",
            "text/plain": [
              "<Figure size 720x288 with 40 Axes>"
            ]
          },
          "metadata": {
            "tags": []
          }
        }
      ]
    },
    {
      "cell_type": "code",
      "metadata": {
        "id": "l2Q-x-1tenKA"
      },
      "source": [
        "digit.keys()\n",
        "train_x = digit.data\n",
        "train_y = digit.target\n",
        "x_train,x_test,y_train,y_test=train_test_split(train_x,train_y,test_size=0.25)"
      ],
      "execution_count": null,
      "outputs": []
    },
    {
      "cell_type": "code",
      "metadata": {
        "colab": {
          "base_uri": "https://localhost:8080/"
        },
        "id": "Mwdh9cP1enKA",
        "outputId": "f2e8289a-8cd8-4d1b-93ec-1c22611e4967"
      },
      "source": [
        "KNN = KNeighborsClassifier(7)\n",
        "KNN.fit(x_train, y_train)"
      ],
      "execution_count": null,
      "outputs": [
        {
          "output_type": "execute_result",
          "data": {
            "text/plain": [
              "KNeighborsClassifier(algorithm='auto', leaf_size=30, metric='minkowski',\n",
              "                     metric_params=None, n_jobs=None, n_neighbors=7, p=2,\n",
              "                     weights='uniform')"
            ]
          },
          "metadata": {
            "tags": []
          },
          "execution_count": 159
        }
      ]
    },
    {
      "cell_type": "code",
      "metadata": {
        "colab": {
          "base_uri": "https://localhost:8080/"
        },
        "id": "MMYQGvP6enKB",
        "outputId": "513fa327-32cb-4af3-8fcb-2bb985cc2d50"
      },
      "source": [
        "#la précision par rapport aux données de test\n",
        "print(KNN.score(x_test,y_test))"
      ],
      "execution_count": null,
      "outputs": [
        {
          "output_type": "stream",
          "text": [
            "0.9822222222222222\n"
          ],
          "name": "stdout"
        }
      ]
    },
    {
      "cell_type": "code",
      "metadata": {
        "colab": {
          "base_uri": "https://localhost:8080/",
          "height": 265
        },
        "id": "89g_EtjTenKB",
        "outputId": "44000d98-58f0-4ead-c533-cd23fa9fbdb3"
      },
      "source": [
        "#Afficher un élement de la matrice format image \n",
        "import numpy as np\n",
        "test = np.array(digit['data'][1726])\n",
        "test1 = test.reshape(1,-1)\n",
        "displayImage(1726)"
      ],
      "execution_count": null,
      "outputs": [
        {
          "output_type": "display_data",
          "data": {
            "image/png": "[encoded data removed]",
            "text/plain": [
              "<Figure size 432x288 with 1 Axes>"
            ]
          },
          "metadata": {
            "tags": [],
            "needs_background": "light"
          }
        }
      ]
    },
    {
      "cell_type": "code",
      "metadata": {
        "colab": {
          "base_uri": "https://localhost:8080/"
        },
        "id": "hhK_hgtCenKB",
        "outputId": "c47f6d53-5caf-45a0-a5a8-2d7b714e9353"
      },
      "source": [
        "#prédiction \n",
        "KNN.predict(test1)"
      ],
      "execution_count": null,
      "outputs": [
        {
          "output_type": "execute_result",
          "data": {
            "text/plain": [
              "array([3])"
            ]
          },
          "metadata": {
            "tags": []
          },
          "execution_count": 162
        }
      ]
    },
    {
      "cell_type": "markdown",
      "metadata": {
        "id": "yr_ZGLBtenKC"
      },
      "source": [
        "## Exercice\n",
        "\n",
        "Renseignez-vous sur la classe KNeighborsClassifier de la bibliotheque scikitlearn. Testez des variations de paramètres : métrique, poids, algorithme. Gardez n_neighbors = 7. Affichez le score de chaque essai. Quel est le meilleur score que vous arrivez à atteindre ?"
      ]
    },
    {
      "cell_type": "code",
      "metadata": {
        "id": "8Ej8jq4LenKC",
        "colab": {
          "base_uri": "https://localhost:8080/"
        },
        "outputId": "29f83fac-dae0-4d8d-cd27-336232ae2ff2"
      },
      "source": [
        "KNN_NEW = KNeighborsClassifier(n_neighbors= 7, weights='uniform', algorithm='brute', p=2, metric='euclidean', metric_params=None, n_jobs=None)\n",
        "KNN_NEW.fit(x_train, y_train)\n",
        "print(KNN_NEW.score(x_test,y_test))"
      ],
      "execution_count": null,
      "outputs": [
        {
          "output_type": "stream",
          "text": [
            "0.9822222222222222\n"
          ],
          "name": "stdout"
        }
      ]
    },
    {
      "cell_type": "code",
      "metadata": {
        "colab": {
          "base_uri": "https://localhost:8080/"
        },
        "id": "nMBDamhRXPs9",
        "outputId": "db8f3f5b-ff33-4a77-af25-6a40ecc12a6c"
      },
      "source": [
        "KNN_NEW2 = KNeighborsClassifier(n_neighbors= 7, weights='distance', algorithm='kd_tree', leaf_size= 32, p=2, metric='chebyshev', metric_params=None, n_jobs=None)\r\n",
        "KNN_NEW2.fit(x_train, y_train)\r\n",
        "print(KNN_NEW2.score(x_test,y_test))"
      ],
      "execution_count": null,
      "outputs": [
        {
          "output_type": "stream",
          "text": [
            "0.9733333333333334\n"
          ],
          "name": "stdout"
        }
      ]
    },
    {
      "cell_type": "code",
      "metadata": {
        "colab": {
          "base_uri": "https://localhost:8080/"
        },
        "id": "puRGAX2IXRou",
        "outputId": "57b16cb5-885c-40d6-c8f9-33d6cfda8a5e"
      },
      "source": [
        "KNN_NEW3 = KNeighborsClassifier(n_neighbors= 7, weights='distance', algorithm='ball_tree', leaf_size= 34, p=1, metric='manhattan', metric_params=None, n_jobs=None)\r\n",
        "KNN_NEW3.fit(x_train, y_train)\r\n",
        "print(KNN_NEW3.score(x_test,y_test))"
      ],
      "execution_count": null,
      "outputs": [
        {
          "output_type": "stream",
          "text": [
            "0.9755555555555555\n"
          ],
          "name": "stdout"
        }
      ]
    },
    {
      "cell_type": "markdown",
      "metadata": {
        "id": "LA8RnIe4WZOK"
      },
      "source": [
        "Je suis mais largué d'une force\r\n"
      ]
    },
    {
      "cell_type": "markdown",
      "metadata": {
        "id": "yYLU2Xn2Rumh"
      },
      "source": [
        "## Ré-entrainement avec les nouveaux paramètres"
      ]
    },
    {
      "cell_type": "code",
      "metadata": {
        "colab": {
          "base_uri": "https://localhost:8080/"
        },
        "id": "O1biOiIvRr3S",
        "outputId": "f432104f-32ad-4a7a-854b-93e20870dcdc"
      },
      "source": [
        "# Score avec les nouvelles tentatives\n",
        "print(f'KNN_NEW Score: {KNN_NEW.score(x_test,y_test)} \\nKNN_NEW2 Score: {KNN_NEW2.score(x_test,y_test)} \\nKNN_NEW3 Score: {KNN_NEW3.score(x_test,y_test)}')"
      ],
      "execution_count": null,
      "outputs": [
        {
          "output_type": "stream",
          "text": [
            "KNN_NEW Score: 0.9822222222222222 \n",
            "KNN_NEW2 Score: 0.9733333333333334 \n",
            "KNN_NEW3 Score: 0.9755555555555555\n"
          ],
          "name": "stdout"
        }
      ]
    },
    {
      "cell_type": "code",
      "metadata": {
        "colab": {
          "base_uri": "https://localhost:8080/"
        },
        "id": "K8xzfkHNUnge",
        "outputId": "d0f9de40-821f-4e86-fa5d-fc963fc82133"
      },
      "source": [
        "# prediction avec jeu de train et jeu de test\n",
        "KNN_NEW.predict(test1)\n",
        "KNN_NEW2.predict(test1)\n",
        "KNN_NEW3.predict(test1)"
      ],
      "execution_count": null,
      "outputs": [
        {
          "output_type": "execute_result",
          "data": {
            "text/plain": [
              "array([3])"
            ]
          },
          "metadata": {
            "tags": []
          },
          "execution_count": 167
        }
      ]
    },
    {
      "cell_type": "markdown",
      "metadata": {
        "id": "Vc4EKsBDenKC"
      },
      "source": [
        "## Curse of dimensionality -> Application d'une PCA"
      ]
    },
    {
      "cell_type": "code",
      "metadata": {
        "colab": {
          "base_uri": "https://localhost:8080/"
        },
        "id": "rHoDV7GhenKC",
        "outputId": "ec768a92-9076-4a50-fb26-6093aedb021e"
      },
      "source": [
        "from sklearn.decomposition import PCA\n",
        "pca = PCA(n_components=10)\n",
        "pca.fit(digit.data) ## PCA avec 10 dimensions"
      ],
      "execution_count": null,
      "outputs": [
        {
          "output_type": "execute_result",
          "data": {
            "text/plain": [
              "PCA(copy=True, iterated_power='auto', n_components=10, random_state=None,\n",
              "    svd_solver='auto', tol=0.0, whiten=False)"
            ]
          },
          "metadata": {
            "tags": []
          },
          "execution_count": 168
        }
      ]
    },
    {
      "cell_type": "code",
      "metadata": {
        "colab": {
          "base_uri": "https://localhost:8080/",
          "height": 252
        },
        "id": "JnV294PhenKC",
        "outputId": "d3b7423a-8c7c-4975-a153-22b197f34979"
      },
      "source": [
        "components = pca.transform(digit.data)\n",
        "filtered = pca.inverse_transform(components)\n",
        "plot_digits(filtered)"
      ],
      "execution_count": null,
      "outputs": [
        {
          "output_type": "display_data",
          "data": {
            "image/png": "[encoded data removed]",
            "text/plain": [
              "<Figure size 720x288 with 40 Axes>"
            ]
          },
          "metadata": {
            "tags": []
          }
        }
      ]
    },
    {
      "cell_type": "markdown",
      "metadata": {
        "id": "ZFIPT7gLenKD"
      },
      "source": [
        "## Exercices\n",
        "\n",
        "1. Faites une PCA à trois dimensions sur le jeu de données des digits et affichez-le.\n",
        "2. Relancez un k-NN (k=7) sur les données simplifiées. Quelles sont les modifications ?\n",
        "3. Modifiez la valeur de k, entre 2 et 12. Quels sont les résultats ?"
      ]
    },
    {
      "cell_type": "markdown",
      "metadata": {
        "id": "9nNO4dFGYMO-"
      },
      "source": [
        "## Définition d'une PCA à 3D\n"
      ]
    },
    {
      "cell_type": "code",
      "metadata": {
        "id": "5AS_uTcHenKD",
        "colab": {
          "base_uri": "https://localhost:8080/",
          "height": 252
        },
        "outputId": "d8c9bc14-e466-4b35-d511-4149c533ae62"
      },
      "source": [
        "pca_3D = PCA(n_components=3)\n",
        "pca_3D.fit(digit.data)\n",
        "components_3D = pca_3D.transform(digit.data)\n",
        "filtered_3D = pca_3D.inverse_transform(components_3D)\n",
        "plot_digits(filtered_3D)"
      ],
      "execution_count": null,
      "outputs": [
        {
          "output_type": "display_data",
          "data": {
            "image/png": "[encoded data removed]",
            "text/plain": [
              "<Figure size 720x288 with 40 Axes>"
            ]
          },
          "metadata": {
            "tags": []
          }
        }
      ]
    },
    {
      "cell_type": "code",
      "metadata": {
        "id": "T_S-A1nPrj8r"
      },
      "source": [
        "y = digit.target\r\n",
        "x_train_2,x_test_2,y_train_2,y_test_2=train_test_split(components_3D,y,test_size=0.25)"
      ],
      "execution_count": null,
      "outputs": []
    },
    {
      "cell_type": "code",
      "metadata": {
        "colab": {
          "base_uri": "https://localhost:8080/"
        },
        "id": "GazntvFHrj8t",
        "outputId": "a6e6cc2c-442a-4814-a61c-f16d9b544ae9"
      },
      "source": [
        "# relancement d'une classe KNN et création d'un tableau numpy\n",
        "KNN = KNeighborsClassifier(7)\n",
        "KNN.fit(x_train_2, y_train_2)\n",
        "print(f'k : 7 score :{KNN.score(x_test_2,y_test_2)}')"
      ],
      "execution_count": null,
      "outputs": [
        {
          "output_type": "stream",
          "text": [
            "k : 7 score :0.7511111111111111\n"
          ],
          "name": "stdout"
        }
      ]
    },
    {
      "cell_type": "code",
      "metadata": {
        "colab": {
          "base_uri": "https://localhost:8080/"
        },
        "id": "n16m-XIfrj8u",
        "outputId": "8ccbdd34-87da-4647-e8a6-d15ade55679a"
      },
      "source": [
        "scores = []\r\n",
        "for i in range(12):\r\n",
        "  k = i+1\r\n",
        "  KNN = KNeighborsClassifier(k)\r\n",
        "  KNN.fit(x_train_2, y_train_2)\r\n",
        "  score = KNN.score(x_test_2,y_test_2)\r\n",
        "  scores.append(score)\r\n",
        "  print(f'k : {k} score :{score}')"
      ],
      "execution_count": null,
      "outputs": [
        {
          "output_type": "stream",
          "text": [
            "k : 1 score :0.7111111111111111\n",
            "k : 2 score :0.6911111111111111\n",
            "k : 3 score :0.7155555555555555\n",
            "k : 4 score :0.7444444444444445\n",
            "k : 5 score :0.7422222222222222\n",
            "k : 6 score :0.7444444444444445\n",
            "k : 7 score :0.7511111111111111\n",
            "k : 8 score :0.7333333333333333\n",
            "k : 9 score :0.7488888888888889\n",
            "k : 10 score :0.7466666666666667\n",
            "k : 11 score :0.7577777777777778\n",
            "k : 12 score :0.7644444444444445\n"
          ],
          "name": "stdout"
        }
      ]
    },
    {
      "cell_type": "code",
      "metadata": {
        "colab": {
          "base_uri": "https://localhost:8080/",
          "height": 295
        },
        "id": "lZcewhtHu_KJ",
        "outputId": "31119f3a-0ad1-414f-a3ec-56d880a7251a"
      },
      "source": [
        "ab = np.arange(1, 13, 1)\r\n",
        "\r\n",
        "fig, ax = plt.subplots()\r\n",
        "ax.plot(ab, scores)\r\n",
        "\r\n",
        "ax.set(xlabel='k', ylabel='score',\r\n",
        "       title='Evolution des scores en fonction de la distance k')\r\n",
        "\r\n",
        "plt.show()"
      ],
      "execution_count": null,
      "outputs": [
        {
          "output_type": "display_data",
          "data": {
            "image/png": "[encoded data removed]",
            "text/plain": [
              "<Figure size 432x288 with 1 Axes>"
            ]
          },
          "metadata": {
            "tags": [],
            "needs_background": "light"
          }
        }
      ]
    },
    {
      "cell_type": "code",
      "metadata": {
        "id": "Qb8GqPWCbQWq",
        "colab": {
          "base_uri": "https://localhost:8080/",
          "height": 265
        },
        "outputId": "8a7c24e6-4519-4bc3-b59a-afca06a5ef0f"
      },
      "source": [
        "test = np.array(digit['data'][1726])\n",
        "test1 = test.reshape(1,-1)\n",
        "displayImage(1726)"
      ],
      "execution_count": null,
      "outputs": [
        {
          "output_type": "display_data",
          "data": {
            "image/png": "[encoded data removed]",
            "text/plain": [
              "<Figure size 432x288 with 1 Axes>"
            ]
          },
          "metadata": {
            "tags": [],
            "needs_background": "light"
          }
        }
      ]
    },
    {
      "cell_type": "code",
      "metadata": {
        "id": "lasj6XG7ab0i",
        "colab": {
          "base_uri": "https://localhost:8080/",
          "height": 252
        },
        "outputId": "8a6992e1-45c3-446a-971a-3e45e2a6eb6c"
      },
      "source": [
        "plot_digits(filtered)"
      ],
      "execution_count": null,
      "outputs": [
        {
          "output_type": "display_data",
          "data": {
            "image/png": "[encoded data removed]",
            "text/plain": [
              "<Figure size 720x288 with 40 Axes>"
            ]
          },
          "metadata": {
            "tags": []
          }
        }
      ]
    },
    {
      "cell_type": "markdown",
      "metadata": {
        "id": "8szlJw0XenKD"
      },
      "source": [
        "# 2. Arbres de décision / Random forests"
      ]
    },
    {
      "cell_type": "code",
      "metadata": {
        "id": "IkmyryKqenKD"
      },
      "source": [
        "def visualize_classifier(model, X, y, ax=None, cmap='rainbow'):\n",
        "    ax = ax or plt.gca()\n",
        "    \n",
        "    # Plot the training points\n",
        "    ax.scatter(X[:, 0], X[:, 1], c=y, s=30, cmap=cmap, zorder=3)\n",
        "    ax.axis('tight')\n",
        "    ax.axis('off')\n",
        "    xlim = ax.get_xlim()\n",
        "    ylim = ax.get_ylim()\n",
        "    \n",
        "    # fit the estimator\n",
        "    model.fit(X, y)\n",
        "    xx, yy = np.meshgrid(np.linspace(*xlim, num=200),\n",
        "                         np.linspace(*ylim, num=200))\n",
        "    Z = model.predict(np.c_[xx.ravel(), yy.ravel()]).reshape(xx.shape)\n",
        "\n",
        "    # Create a color plot with the results\n",
        "    n_classes = len(np.unique(y))\n",
        "    contours = ax.contourf(xx, yy, Z, alpha=0.3,\n",
        "                           levels=np.arange(n_classes + 1) - 0.5,\n",
        "                           cmap=cmap,\n",
        "                           zorder=1)\n",
        "\n",
        "    ax.set(xlim=xlim, ylim=ylim)"
      ],
      "execution_count": null,
      "outputs": []
    },
    {
      "cell_type": "markdown",
      "metadata": {
        "id": "uDb6SVvuenKD"
      },
      "source": [
        "## 2.a Classification avec arbres de décision"
      ]
    },
    {
      "cell_type": "code",
      "metadata": {
        "id": "DNd1PGk6enKD",
        "colab": {
          "base_uri": "https://localhost:8080/",
          "height": 265
        },
        "outputId": "fad8aa5a-749c-403f-a2c9-ce01f8631307"
      },
      "source": [
        "from sklearn.datasets import make_blobs\n",
        "import numpy as np\n",
        "\n",
        "X1, y1 = make_blobs(n_samples=400, centers=4,\n",
        "                  random_state=0, cluster_std=1.0)\n",
        "plt.scatter(X1[:, 0], X1[:, 1], c=y1, s=50, cmap='rainbow');"
      ],
      "execution_count": null,
      "outputs": [
        {
          "output_type": "display_data",
          "data": {
            "image/png": "[encoded data removed]",
            "text/plain": [
              "<Figure size 432x288 with 1 Axes>"
            ]
          },
          "metadata": {
            "tags": [],
            "needs_background": "light"
          }
        }
      ]
    },
    {
      "cell_type": "code",
      "metadata": {
        "id": "xNjQ6CaVenKE"
      },
      "source": [
        "from sklearn.tree import DecisionTreeClassifier\n",
        "classifier = DecisionTreeClassifier(max_depth=3)\n",
        "tree = classifier.fit(X1, y1)\n",
        "y_pred = classifier.predict(X1)"
      ],
      "execution_count": null,
      "outputs": []
    },
    {
      "cell_type": "code",
      "metadata": {
        "id": "jff6XDlmenKE",
        "colab": {
          "base_uri": "https://localhost:8080/",
          "height": 248
        },
        "outputId": "0468ef29-b11b-418f-a3f8-0fa4de6fdbbc"
      },
      "source": [
        "visualize_classifier(classifier,X1,y1)"
      ],
      "execution_count": null,
      "outputs": [
        {
          "output_type": "display_data",
          "data": {
            "image/png": "[encoded data removed]",
            "text/plain": [
              "<Figure size 432x288 with 1 Axes>"
            ]
          },
          "metadata": {
            "tags": [],
            "needs_background": "light"
          }
        }
      ]
    },
    {
      "cell_type": "code",
      "metadata": {
        "id": "TPuJeyYTenKE",
        "colab": {
          "base_uri": "https://localhost:8080/"
        },
        "outputId": "14ad11a6-a28c-4c98-8192-e9ac41ec34e7"
      },
      "source": [
        "from sklearn.metrics import classification_report, confusion_matrix,mean_absolute_error\n",
        "print(confusion_matrix(y1, y_pred))\n",
        "print(classification_report(y1, y_pred))"
      ],
      "execution_count": null,
      "outputs": [
        {
          "output_type": "stream",
          "text": [
            "[[93  2  1  4]\n",
            " [ 2 97  1  0]\n",
            " [ 7  1 90  2]\n",
            " [ 2  0  0 98]]\n",
            "              precision    recall  f1-score   support\n",
            "\n",
            "           0       0.89      0.93      0.91       100\n",
            "           1       0.97      0.97      0.97       100\n",
            "           2       0.98      0.90      0.94       100\n",
            "           3       0.94      0.98      0.96       100\n",
            "\n",
            "    accuracy                           0.94       400\n",
            "   macro avg       0.95      0.94      0.95       400\n",
            "weighted avg       0.95      0.94      0.95       400\n",
            "\n"
          ],
          "name": "stdout"
        }
      ]
    },
    {
      "cell_type": "markdown",
      "metadata": {
        "id": "HoG5WRpTenKE"
      },
      "source": [
        "## 2.b Régression avec arbres de décision"
      ]
    },
    {
      "cell_type": "code",
      "metadata": {
        "id": "iU0_p2Vcks97",
        "colab": {
          "base_uri": "https://localhost:8080/"
        },
        "outputId": "3ef7ef3f-699a-4c1f-a0a6-bfcdf58de7d9"
      },
      "source": [
        "import os\n",
        "cwd = os.getcwd()\n",
        "print(cwd)"
      ],
      "execution_count": null,
      "outputs": [
        {
          "output_type": "stream",
          "text": [
            "/content\n"
          ],
          "name": "stdout"
        }
      ]
    },
    {
      "cell_type": "code",
      "metadata": {
        "id": "hBeySdVDenKE",
        "colab": {
          "base_uri": "https://localhost:8080/",
          "height": 204
        },
        "outputId": "ba06fe5e-6bdc-4a25-a0d0-971081952d3f"
      },
      "source": [
        "petrol_data = pd.read_csv('petrol_consumption.csv')\n",
        "petrol_data.head()"
      ],
      "execution_count": null,
      "outputs": [
        {
          "output_type": "execute_result",
          "data": {
            "text/html": [
              "<div>\n",
              "<style scoped>\n",
              "    .dataframe tbody tr th:only-of-type {\n",
              "        vertical-align: middle;\n",
              "    }\n",
              "\n",
              "    .dataframe tbody tr th {\n",
              "        vertical-align: top;\n",
              "    }\n",
              "\n",
              "    .dataframe thead th {\n",
              "        text-align: right;\n",
              "    }\n",
              "</style>\n",
              "<table border=\"1\" class=\"dataframe\">\n",
              "  <thead>\n",
              "    <tr style=\"text-align: right;\">\n",
              "      <th></th>\n",
              "      <th>Petrol_tax</th>\n",
              "      <th>Average_income</th>\n",
              "      <th>Paved_Highways</th>\n",
              "      <th>Population_Driver_licence(%)</th>\n",
              "      <th>Petrol_Consumption</th>\n",
              "    </tr>\n",
              "  </thead>\n",
              "  <tbody>\n",
              "    <tr>\n",
              "      <th>0</th>\n",
              "      <td>9.0</td>\n",
              "      <td>3571</td>\n",
              "      <td>1976</td>\n",
              "      <td>0.525</td>\n",
              "      <td>541</td>\n",
              "    </tr>\n",
              "    <tr>\n",
              "      <th>1</th>\n",
              "      <td>9.0</td>\n",
              "      <td>4092</td>\n",
              "      <td>1250</td>\n",
              "      <td>0.572</td>\n",
              "      <td>524</td>\n",
              "    </tr>\n",
              "    <tr>\n",
              "      <th>2</th>\n",
              "      <td>9.0</td>\n",
              "      <td>3865</td>\n",
              "      <td>1586</td>\n",
              "      <td>0.580</td>\n",
              "      <td>561</td>\n",
              "    </tr>\n",
              "    <tr>\n",
              "      <th>3</th>\n",
              "      <td>7.5</td>\n",
              "      <td>4870</td>\n",
              "      <td>2351</td>\n",
              "      <td>0.529</td>\n",
              "      <td>414</td>\n",
              "    </tr>\n",
              "    <tr>\n",
              "      <th>4</th>\n",
              "      <td>8.0</td>\n",
              "      <td>4399</td>\n",
              "      <td>431</td>\n",
              "      <td>0.544</td>\n",
              "      <td>410</td>\n",
              "    </tr>\n",
              "  </tbody>\n",
              "</table>\n",
              "</div>"
            ],
            "text/plain": [
              "   Petrol_tax  Average_income  ...  Population_Driver_licence(%)  Petrol_Consumption\n",
              "0         9.0            3571  ...                         0.525                 541\n",
              "1         9.0            4092  ...                         0.572                 524\n",
              "2         9.0            3865  ...                         0.580                 561\n",
              "3         7.5            4870  ...                         0.529                 414\n",
              "4         8.0            4399  ...                         0.544                 410\n",
              "\n",
              "[5 rows x 5 columns]"
            ]
          },
          "metadata": {
            "tags": []
          },
          "execution_count": 183
        }
      ]
    },
    {
      "cell_type": "code",
      "metadata": {
        "id": "4ETVdjlnenKF",
        "colab": {
          "base_uri": "https://localhost:8080/",
          "height": 204
        },
        "outputId": "f06f7c85-312a-41f5-d605-5ff51b8bdfe6"
      },
      "source": [
        "X1 = petrol_data.drop('Petrol_Consumption', axis=1) ## x sont les variables / paramètres fixes\n",
        "y1 = petrol_data['Petrol_Consumption'] ## y est la variable a deviner\n",
        "X_train, X_test, y_train, y_test = train_test_split(X1, y1, test_size=0.2, random_state=0) ## on divise nos données en 2 avec 20% de test\n",
        "X1.head()"
      ],
      "execution_count": null,
      "outputs": [
        {
          "output_type": "execute_result",
          "data": {
            "text/html": [
              "<div>\n",
              "<style scoped>\n",
              "    .dataframe tbody tr th:only-of-type {\n",
              "        vertical-align: middle;\n",
              "    }\n",
              "\n",
              "    .dataframe tbody tr th {\n",
              "        vertical-align: top;\n",
              "    }\n",
              "\n",
              "    .dataframe thead th {\n",
              "        text-align: right;\n",
              "    }\n",
              "</style>\n",
              "<table border=\"1\" class=\"dataframe\">\n",
              "  <thead>\n",
              "    <tr style=\"text-align: right;\">\n",
              "      <th></th>\n",
              "      <th>Petrol_tax</th>\n",
              "      <th>Average_income</th>\n",
              "      <th>Paved_Highways</th>\n",
              "      <th>Population_Driver_licence(%)</th>\n",
              "    </tr>\n",
              "  </thead>\n",
              "  <tbody>\n",
              "    <tr>\n",
              "      <th>0</th>\n",
              "      <td>9.0</td>\n",
              "      <td>3571</td>\n",
              "      <td>1976</td>\n",
              "      <td>0.525</td>\n",
              "    </tr>\n",
              "    <tr>\n",
              "      <th>1</th>\n",
              "      <td>9.0</td>\n",
              "      <td>4092</td>\n",
              "      <td>1250</td>\n",
              "      <td>0.572</td>\n",
              "    </tr>\n",
              "    <tr>\n",
              "      <th>2</th>\n",
              "      <td>9.0</td>\n",
              "      <td>3865</td>\n",
              "      <td>1586</td>\n",
              "      <td>0.580</td>\n",
              "    </tr>\n",
              "    <tr>\n",
              "      <th>3</th>\n",
              "      <td>7.5</td>\n",
              "      <td>4870</td>\n",
              "      <td>2351</td>\n",
              "      <td>0.529</td>\n",
              "    </tr>\n",
              "    <tr>\n",
              "      <th>4</th>\n",
              "      <td>8.0</td>\n",
              "      <td>4399</td>\n",
              "      <td>431</td>\n",
              "      <td>0.544</td>\n",
              "    </tr>\n",
              "  </tbody>\n",
              "</table>\n",
              "</div>"
            ],
            "text/plain": [
              "   Petrol_tax  Average_income  Paved_Highways  Population_Driver_licence(%)\n",
              "0         9.0            3571            1976                         0.525\n",
              "1         9.0            4092            1250                         0.572\n",
              "2         9.0            3865            1586                         0.580\n",
              "3         7.5            4870            2351                         0.529\n",
              "4         8.0            4399             431                         0.544"
            ]
          },
          "metadata": {
            "tags": []
          },
          "execution_count": 184
        }
      ]
    },
    {
      "cell_type": "code",
      "metadata": {
        "id": "8-4O9tlvenKF"
      },
      "source": [
        "from sklearn.tree import DecisionTreeRegressor\n",
        "regressor = DecisionTreeRegressor()\n",
        "regressor.fit(X_train, y_train) ## on entraine le modele sur les données\n",
        "y_pred = regressor.predict(X_test) ## on teste le modèle sur les données de test"
      ],
      "execution_count": null,
      "outputs": []
    },
    {
      "cell_type": "code",
      "metadata": {
        "id": "dmR0wtioenKF",
        "colab": {
          "base_uri": "https://localhost:8080/"
        },
        "outputId": "905f8aa1-1f04-42e5-d3dc-b2009166d041"
      },
      "source": [
        "df=pd.DataFrame({'Actual':y_test, 'Predicted':y_pred})\n",
        "df\n",
        "print('Mean Absolute Error:', mean_absolute_error(y_test, y_pred))"
      ],
      "execution_count": null,
      "outputs": [
        {
          "output_type": "stream",
          "text": [
            "Mean Absolute Error: 51.3\n"
          ],
          "name": "stdout"
        }
      ]
    },
    {
      "cell_type": "markdown",
      "metadata": {
        "id": "3-vl05F-enKF"
      },
      "source": [
        "### Exercice\n",
        "\n",
        "Faites le même exercice en essayant de faire deviner la valeur de Average_Income avec respectivement 50%, 30% et 10% de données de test. Affichez l'erreur moyenne absolue dans chaque cas."
      ]
    },
    {
      "cell_type": "markdown",
      "metadata": {
        "id": "UXMxCLmRlOG9"
      },
      "source": [
        "## Prédiction de la colonne Average par arbre de décision"
      ]
    },
    {
      "cell_type": "code",
      "metadata": {
        "id": "8QpCDpt3enKF"
      },
      "source": [
        "X2 = petrol_data.drop('Average_income', axis=1) ## x sont les variables / paramètres fixes\n",
        "y2 = petrol_data['Average_income'] ## y est la variable a deviner\n",
        "X2_train, X2_test, y2_train, y2_test = train_test_split(X2, y2, test_size=0.5, random_state=0) ## on divise nos données en 2 avec 20% de test\n",
        "# X2.head()\n",
        "\n",
        "X3 = petrol_data.drop('Average_income', axis=1) ## x sont les variables / paramètres fixes\n",
        "y3 = petrol_data['Average_income'] ## y est la variable a deviner\n",
        "X3_train, X3_test, y3_train, y3_test = train_test_split(X3, y3, test_size=0.3, random_state=0) ## on divise nos données en 2 avec 20% de test\n",
        "# X3.head()\n",
        "\n",
        "X4 = petrol_data.drop('Average_income', axis=1) ## x sont les variables / paramètres fixes\n",
        "y4 = petrol_data['Average_income'] ## y est la variable a deviner\n",
        "X4_train, X4_test, y4_train, y4_test = train_test_split(X4, y4, test_size=0.1, random_state=0) ## on divise nos données en 2 avec 20% de test\n",
        "# X4.head()"
      ],
      "execution_count": null,
      "outputs": []
    },
    {
      "cell_type": "code",
      "metadata": {
        "id": "y_GyKzohlqJ7"
      },
      "source": [
        "regressor2 = DecisionTreeRegressor()\n",
        "regressor2.fit(X2_train, y2_train)\n",
        "y2_pred = regressor2.predict(X2_test)\n",
        "\n",
        "regressor3 = DecisionTreeRegressor()\n",
        "regressor3.fit(X3_train, y3_train)\n",
        "y3_pred = regressor3.predict(X3_test)\n",
        "\n",
        "regressor4 = DecisionTreeRegressor()\n",
        "regressor4.fit(X4_train, y4_train)\n",
        "y4_pred = regressor4.predict(X4_test)"
      ],
      "execution_count": null,
      "outputs": []
    },
    {
      "cell_type": "code",
      "metadata": {
        "colab": {
          "base_uri": "https://localhost:8080/"
        },
        "id": "3KG_hTSFmS8b",
        "outputId": "0eb00470-987b-4fae-cfd5-4a04a813804e"
      },
      "source": [
        "df2=pd.DataFrame({'Actual':y2_test, 'Predicted':y2_pred})\n",
        "df2\n",
        "df3=pd.DataFrame({'Actual':y3_test, 'Predicted':y3_pred})\n",
        "df3\n",
        "df4=pd.DataFrame({'Actual':y4_test, 'Predicted':y4_pred})\n",
        "df4\n",
        "print(f'Mean Absolute Error for regression2: {mean_absolute_error(y2_test, y2_pred)}\\nMean Absolute Error for regression2: {mean_absolute_error(y3_test, y3_pred)}\\nMean Absolute Error for regression2: {mean_absolute_error(y4_test, y4_pred)}\\n')"
      ],
      "execution_count": null,
      "outputs": [
        {
          "output_type": "stream",
          "text": [
            "Mean Absolute Error for regression2: 592.4583333333334\n",
            "Mean Absolute Error for regression2: 669.0666666666667\n",
            "Mean Absolute Error for regression2: 769.2\n",
            "\n"
          ],
          "name": "stdout"
        }
      ]
    },
    {
      "cell_type": "markdown",
      "metadata": {
        "id": "nTEy0EQxenKG"
      },
      "source": [
        "## 2.c Random forests"
      ]
    },
    {
      "cell_type": "code",
      "metadata": {
        "id": "p_N1jdUQenKG"
      },
      "source": [
        "from sklearn.ensemble import RandomForestClassifier\n",
        "model = RandomForestClassifier(n_estimators=100, random_state=0)\n",
        "from sklearn.datasets import make_blobs\n",
        "import numpy as np\n",
        "\n",
        "X, y = make_blobs(n_samples=400, centers=4,\n",
        "                  random_state=0, cluster_std=1.0)"
      ],
      "execution_count": null,
      "outputs": []
    },
    {
      "cell_type": "code",
      "metadata": {
        "id": "SZaZFwfgenKG",
        "colab": {
          "base_uri": "https://localhost:8080/",
          "height": 248
        },
        "outputId": "162500fb-9558-4d1a-8f21-4ae2674bf77f"
      },
      "source": [
        "visualize_classifier(model, X, y);"
      ],
      "execution_count": null,
      "outputs": [
        {
          "output_type": "display_data",
          "data": {
            "image/png": "[encoded data removed]",
            "text/plain": [
              "<Figure size 432x288 with 1 Axes>"
            ]
          },
          "metadata": {
            "tags": [],
            "needs_background": "light"
          }
        }
      ]
    },
    {
      "cell_type": "markdown",
      "metadata": {
        "id": "pp9w6Q7fenKH"
      },
      "source": [
        "### Exercice\n",
        "\n",
        "1. Affichez des indicateurs de réussite pour cette random forest (matrice de confusion, rapport de classification).\n",
        "2. Utilisez une random forest pour entrainer un modèle sur les digits. Faites varier le nombre d'estimateurs entre 1 et 100. Le score change-t-il ?"
      ]
    },
    {
      "cell_type": "markdown",
      "metadata": {
        "id": "0HZilYoLpqMv"
      },
      "source": [
        "## 1. Affichage d'indicateurs de réussite de la random forest"
      ]
    },
    {
      "cell_type": "code",
      "metadata": {
        "id": "rB-NoT9ienKH",
        "colab": {
          "base_uri": "https://localhost:8080/"
        },
        "outputId": "c824ea74-a843-4598-8530-4bc2592b9ba0"
      },
      "source": [
        "from sklearn.metrics import classification_report, confusion_matrix,mean_absolute_error\n",
        "\n",
        "tree_data = classifier.fit(X, y)\n",
        "y_pred_forest = model.predict(X)\n",
        "\n",
        "print(f'Confusion matrix:\\n {confusion_matrix(y, y_pred_forest)}')\n",
        "print(f'Classification:\\n {classification_report(y, y_pred_forest)}')"
      ],
      "execution_count": null,
      "outputs": [
        {
          "output_type": "stream",
          "text": [
            "Confusion matrix:\n",
            " [[100   0   0   0]\n",
            " [  0 100   0   0]\n",
            " [  0   0 100   0]\n",
            " [  0   0   0 100]]\n",
            "Classification:\n",
            "               precision    recall  f1-score   support\n",
            "\n",
            "           0       1.00      1.00      1.00       100\n",
            "           1       1.00      1.00      1.00       100\n",
            "           2       1.00      1.00      1.00       100\n",
            "           3       1.00      1.00      1.00       100\n",
            "\n",
            "    accuracy                           1.00       400\n",
            "   macro avg       1.00      1.00      1.00       400\n",
            "weighted avg       1.00      1.00      1.00       400\n",
            "\n"
          ],
          "name": "stdout"
        }
      ]
    },
    {
      "cell_type": "markdown",
      "metadata": {
        "id": "FRLAFS56uS3T"
      },
      "source": [
        "## 2. Variation de prédiction pour les nombres en utilisant le random forest"
      ]
    },
    {
      "cell_type": "code",
      "metadata": {
        "id": "SKUl2EckwrOc"
      },
      "source": [
        "from sklearn.ensemble import RandomForestClassifier\n",
        "model_digit = RandomForestClassifier(n_estimators=80, random_state=0, max_depth=4)\n",
        "\n",
        "#Affichage de jeu de données \n",
        "digit = load_digits() # chargement du dataset MNIST\n",
        "dig = pd.DataFrame(digit['data'][0:1700]) # Création d'un dataframe Panda\n",
        "dig.head() # affiche le tableau ci-dessous   \n",
        "\n",
        "train_x_random = digit.data\n",
        "train_y_random = digit.target\n",
        "x_train_random,x_test_random,y_train_random,y_test_random = train_test_split(train_x_random,train_y_random,test_size=0.25)\n",
        "\n",
        "model_digit.fit(train_x_random, train_y_random)\n",
        "y_pred_forest_digit = model_digit.predict(train_x_random)\n"
      ],
      "execution_count": null,
      "outputs": []
    },
    {
      "cell_type": "code",
      "metadata": {
        "id": "C2vBsEMe1MPW"
      },
      "source": [
        "from sklearn.ensemble import RandomForestClassifier\n",
        "model_digit2 = RandomForestClassifier(n_estimators=40, random_state=0, max_depth=4)\n",
        "\n",
        "#Affichage de jeu de données \n",
        "digit2 = load_digits() # chargement du dataset MNIST\n",
        "dig2 = pd.DataFrame(digit['data'][0:1700]) # Création d'un dataframe Panda\n",
        "dig2.head() # affiche le tableau ci-dessous   \n",
        "\n",
        "train_x_random2 = digit.data\n",
        "train_y_random2 = digit.target\n",
        "x_train_random2,x_test_random2,y_train_random2,y_test_random2 = train_test_split(train_x_random2,train_y_random2,test_size=0.25)\n",
        "\n",
        "model_digit2.fit(train_x_random, train_y_random)\n",
        "y_pred_forest_digit2 = model_digit2.predict(train_x_random)"
      ],
      "execution_count": null,
      "outputs": []
    },
    {
      "cell_type": "code",
      "metadata": {
        "colab": {
          "base_uri": "https://localhost:8080/"
        },
        "id": "_2e0suHszsvV",
        "outputId": "1d8a8e0a-7320-47e0-8f05-dd6d6b7a4d19"
      },
      "source": [
        "print(f'Score: {model_digit.score(x_test_random, y_test_random)}\\nScore 2: {model_digit2.score(x_test_random, y_test_random)}')\n"
      ],
      "execution_count": null,
      "outputs": [
        {
          "output_type": "stream",
          "text": [
            "Score: 0.9222222222222223\n",
            "Score 2: 0.9222222222222223\n"
          ],
          "name": "stdout"
        }
      ]
    },
    {
      "cell_type": "code",
      "metadata": {
        "colab": {
          "base_uri": "https://localhost:8080/",
          "height": 550
        },
        "id": "Ewa15wP10NMg",
        "outputId": "a7710437-2548-4d12-e862-3b421267b22a"
      },
      "source": [
        "# visualize_classifier(model_digit2, train_x_random2, train_y_random2)"
      ],
      "execution_count": null,
      "outputs": [
        {
          "output_type": "error",
          "ename": "ValueError",
          "evalue": "ignored",
          "traceback": [
            "\u001b[0;31m---------------------------------------------------------------------------\u001b[0m",
            "\u001b[0;31mValueError\u001b[0m                                Traceback (most recent call last)",
            "\u001b[0;32m<ipython-input-196-c25f502aef96>\u001b[0m in \u001b[0;36m<module>\u001b[0;34m()\u001b[0m\n\u001b[0;32m----> 1\u001b[0;31m \u001b[0mvisualize_classifier\u001b[0m\u001b[0;34m(\u001b[0m\u001b[0mmodel_digit2\u001b[0m\u001b[0;34m,\u001b[0m \u001b[0mtrain_x_random2\u001b[0m\u001b[0;34m,\u001b[0m \u001b[0mtrain_y_random2\u001b[0m\u001b[0;34m)\u001b[0m\u001b[0;34m\u001b[0m\u001b[0;34m\u001b[0m\u001b[0m\n\u001b[0m",
            "\u001b[0;32m<ipython-input-177-c58d5c3637af>\u001b[0m in \u001b[0;36mvisualize_classifier\u001b[0;34m(model, X, y, ax, cmap)\u001b[0m\n\u001b[1;32m     13\u001b[0m     xx, yy = np.meshgrid(np.linspace(*xlim, num=200),\n\u001b[1;32m     14\u001b[0m                          np.linspace(*ylim, num=200))\n\u001b[0;32m---> 15\u001b[0;31m     \u001b[0mZ\u001b[0m \u001b[0;34m=\u001b[0m \u001b[0mmodel\u001b[0m\u001b[0;34m.\u001b[0m\u001b[0mpredict\u001b[0m\u001b[0;34m(\u001b[0m\u001b[0mnp\u001b[0m\u001b[0;34m.\u001b[0m\u001b[0mc_\u001b[0m\u001b[0;34m[\u001b[0m\u001b[0mxx\u001b[0m\u001b[0;34m.\u001b[0m\u001b[0mravel\u001b[0m\u001b[0;34m(\u001b[0m\u001b[0;34m)\u001b[0m\u001b[0;34m,\u001b[0m \u001b[0myy\u001b[0m\u001b[0;34m.\u001b[0m\u001b[0mravel\u001b[0m\u001b[0;34m(\u001b[0m\u001b[0;34m)\u001b[0m\u001b[0;34m]\u001b[0m\u001b[0;34m)\u001b[0m\u001b[0;34m.\u001b[0m\u001b[0mreshape\u001b[0m\u001b[0;34m(\u001b[0m\u001b[0mxx\u001b[0m\u001b[0;34m.\u001b[0m\u001b[0mshape\u001b[0m\u001b[0;34m)\u001b[0m\u001b[0;34m\u001b[0m\u001b[0;34m\u001b[0m\u001b[0m\n\u001b[0m\u001b[1;32m     16\u001b[0m \u001b[0;34m\u001b[0m\u001b[0m\n\u001b[1;32m     17\u001b[0m     \u001b[0;31m# Create a color plot with the results\u001b[0m\u001b[0;34m\u001b[0m\u001b[0;34m\u001b[0m\u001b[0;34m\u001b[0m\u001b[0m\n",
            "\u001b[0;32m/usr/local/lib/python3.6/dist-packages/sklearn/ensemble/_forest.py\u001b[0m in \u001b[0;36mpredict\u001b[0;34m(self, X)\u001b[0m\n\u001b[1;32m    610\u001b[0m             \u001b[0mThe\u001b[0m \u001b[0mpredicted\u001b[0m \u001b[0mclasses\u001b[0m\u001b[0;34m.\u001b[0m\u001b[0;34m\u001b[0m\u001b[0;34m\u001b[0m\u001b[0m\n\u001b[1;32m    611\u001b[0m         \"\"\"\n\u001b[0;32m--> 612\u001b[0;31m         \u001b[0mproba\u001b[0m \u001b[0;34m=\u001b[0m \u001b[0mself\u001b[0m\u001b[0;34m.\u001b[0m\u001b[0mpredict_proba\u001b[0m\u001b[0;34m(\u001b[0m\u001b[0mX\u001b[0m\u001b[0;34m)\u001b[0m\u001b[0;34m\u001b[0m\u001b[0;34m\u001b[0m\u001b[0m\n\u001b[0m\u001b[1;32m    613\u001b[0m \u001b[0;34m\u001b[0m\u001b[0m\n\u001b[1;32m    614\u001b[0m         \u001b[0;32mif\u001b[0m \u001b[0mself\u001b[0m\u001b[0;34m.\u001b[0m\u001b[0mn_outputs_\u001b[0m \u001b[0;34m==\u001b[0m \u001b[0;36m1\u001b[0m\u001b[0;34m:\u001b[0m\u001b[0;34m\u001b[0m\u001b[0;34m\u001b[0m\u001b[0m\n",
            "\u001b[0;32m/usr/local/lib/python3.6/dist-packages/sklearn/ensemble/_forest.py\u001b[0m in \u001b[0;36mpredict_proba\u001b[0;34m(self, X)\u001b[0m\n\u001b[1;32m    654\u001b[0m         \u001b[0mcheck_is_fitted\u001b[0m\u001b[0;34m(\u001b[0m\u001b[0mself\u001b[0m\u001b[0;34m)\u001b[0m\u001b[0;34m\u001b[0m\u001b[0;34m\u001b[0m\u001b[0m\n\u001b[1;32m    655\u001b[0m         \u001b[0;31m# Check data\u001b[0m\u001b[0;34m\u001b[0m\u001b[0;34m\u001b[0m\u001b[0;34m\u001b[0m\u001b[0m\n\u001b[0;32m--> 656\u001b[0;31m         \u001b[0mX\u001b[0m \u001b[0;34m=\u001b[0m \u001b[0mself\u001b[0m\u001b[0;34m.\u001b[0m\u001b[0m_validate_X_predict\u001b[0m\u001b[0;34m(\u001b[0m\u001b[0mX\u001b[0m\u001b[0;34m)\u001b[0m\u001b[0;34m\u001b[0m\u001b[0;34m\u001b[0m\u001b[0m\n\u001b[0m\u001b[1;32m    657\u001b[0m \u001b[0;34m\u001b[0m\u001b[0m\n\u001b[1;32m    658\u001b[0m         \u001b[0;31m# Assign chunk of trees to jobs\u001b[0m\u001b[0;34m\u001b[0m\u001b[0;34m\u001b[0m\u001b[0;34m\u001b[0m\u001b[0m\n",
            "\u001b[0;32m/usr/local/lib/python3.6/dist-packages/sklearn/ensemble/_forest.py\u001b[0m in \u001b[0;36m_validate_X_predict\u001b[0;34m(self, X)\u001b[0m\n\u001b[1;32m    410\u001b[0m         \u001b[0mcheck_is_fitted\u001b[0m\u001b[0;34m(\u001b[0m\u001b[0mself\u001b[0m\u001b[0;34m)\u001b[0m\u001b[0;34m\u001b[0m\u001b[0;34m\u001b[0m\u001b[0m\n\u001b[1;32m    411\u001b[0m \u001b[0;34m\u001b[0m\u001b[0m\n\u001b[0;32m--> 412\u001b[0;31m         \u001b[0;32mreturn\u001b[0m \u001b[0mself\u001b[0m\u001b[0;34m.\u001b[0m\u001b[0mestimators_\u001b[0m\u001b[0;34m[\u001b[0m\u001b[0;36m0\u001b[0m\u001b[0;34m]\u001b[0m\u001b[0;34m.\u001b[0m\u001b[0m_validate_X_predict\u001b[0m\u001b[0;34m(\u001b[0m\u001b[0mX\u001b[0m\u001b[0;34m,\u001b[0m \u001b[0mcheck_input\u001b[0m\u001b[0;34m=\u001b[0m\u001b[0;32mTrue\u001b[0m\u001b[0;34m)\u001b[0m\u001b[0;34m\u001b[0m\u001b[0;34m\u001b[0m\u001b[0m\n\u001b[0m\u001b[1;32m    413\u001b[0m \u001b[0;34m\u001b[0m\u001b[0m\n\u001b[1;32m    414\u001b[0m     \u001b[0;34m@\u001b[0m\u001b[0mproperty\u001b[0m\u001b[0;34m\u001b[0m\u001b[0;34m\u001b[0m\u001b[0m\n",
            "\u001b[0;32m/usr/local/lib/python3.6/dist-packages/sklearn/tree/_classes.py\u001b[0m in \u001b[0;36m_validate_X_predict\u001b[0;34m(self, X, check_input)\u001b[0m\n\u001b[1;32m    389\u001b[0m                              \u001b[0;34m\"match the input. Model n_features is %s and \"\u001b[0m\u001b[0;34m\u001b[0m\u001b[0;34m\u001b[0m\u001b[0m\n\u001b[1;32m    390\u001b[0m                              \u001b[0;34m\"input n_features is %s \"\u001b[0m\u001b[0;34m\u001b[0m\u001b[0;34m\u001b[0m\u001b[0m\n\u001b[0;32m--> 391\u001b[0;31m                              % (self.n_features_, n_features))\n\u001b[0m\u001b[1;32m    392\u001b[0m \u001b[0;34m\u001b[0m\u001b[0m\n\u001b[1;32m    393\u001b[0m         \u001b[0;32mreturn\u001b[0m \u001b[0mX\u001b[0m\u001b[0;34m\u001b[0m\u001b[0;34m\u001b[0m\u001b[0m\n",
            "\u001b[0;31mValueError\u001b[0m: Number of features of the model must match the input. Model n_features is 64 and input n_features is 2 "
          ]
        },
        {
          "output_type": "display_data",
          "data": {
            "image/png": "[encoded data removed]",
            "text/plain": [
              "<Figure size 432x288 with 1 Axes>"
            ]
          },
          "metadata": {
            "tags": [],
            "needs_background": "light"
          }
        }
      ]
    },
    {
      "cell_type": "code",
      "metadata": {
        "colab": {
          "base_uri": "https://localhost:8080/"
        },
        "id": "xoI4Y6jb2fcu",
        "outputId": "86641fcf-c9cc-481a-ebd0-ecf42aeb052a"
      },
      "source": [
        "# on affiche les matrices de confusion  \n",
        "print(f'Confusion matrix:\\n {confusion_matrix(train_y_random, y_pred_forest_digit)}')\n",
        "print(f'Classification:\\n {classification_report(train_y_random, y_pred_forest_digit)}')\n",
        "print(f'Confusion matrix:\\n {confusion_matrix(train_y_random2, y_pred_forest_digit2)}')\n",
        "print(f'Classification:\\n {classification_report(train_y_random2, y_pred_forest_digit2)}')"
      ],
      "execution_count": null,
      "outputs": [
        {
          "output_type": "stream",
          "text": [
            "Confusion matrix:\n",
            " [[176   0   0   0   2   0   0   0   0   0]\n",
            " [  0 159   7   2   1   1   2   0   0  10]\n",
            " [  0   2 172   2   0   0   0   0   0   1]\n",
            " [  1   0   3 168   0   2   0   2   7   0]\n",
            " [  0   0   0   0 176   1   0   4   0   0]\n",
            " [  0   0   0   0   1 168   1   0   1  11]\n",
            " [  1   0   0   0   2   0 178   0   0   0]\n",
            " [  0   0   0   0   2   1   0 176   0   0]\n",
            " [  1  10   5   3   0   2   1   5 141   6]\n",
            " [  0   1   0   4   1   5   0   9   1 159]]\n",
            "Classification:\n",
            "               precision    recall  f1-score   support\n",
            "\n",
            "           0       0.98      0.99      0.99       178\n",
            "           1       0.92      0.87      0.90       182\n",
            "           2       0.92      0.97      0.95       177\n",
            "           3       0.94      0.92      0.93       183\n",
            "           4       0.95      0.97      0.96       181\n",
            "           5       0.93      0.92      0.93       182\n",
            "           6       0.98      0.98      0.98       181\n",
            "           7       0.90      0.98      0.94       179\n",
            "           8       0.94      0.81      0.87       174\n",
            "           9       0.85      0.88      0.87       180\n",
            "\n",
            "    accuracy                           0.93      1797\n",
            "   macro avg       0.93      0.93      0.93      1797\n",
            "weighted avg       0.93      0.93      0.93      1797\n",
            "\n",
            "Confusion matrix:\n",
            " [[176   0   0   0   1   0   0   0   1   0]\n",
            " [  0 160   6   2   1   1   2   0   0  10]\n",
            " [  0   3 167   5   0   0   0   0   1   1]\n",
            " [  1   0   5 168   0   1   0   3   4   1]\n",
            " [  0   0   0   0 176   1   0   4   0   0]\n",
            " [  1   0   0   0   1 167   1   1   1  10]\n",
            " [  1   1   0   0   1   0 178   0   0   0]\n",
            " [  0   0   0   0   1   1   0 177   0   0]\n",
            " [  1  10   7   4   0   1   0   8 142   1]\n",
            " [  0   0   0   4   2   6   0  11   1 156]]\n",
            "Classification:\n",
            "               precision    recall  f1-score   support\n",
            "\n",
            "           0       0.98      0.99      0.98       178\n",
            "           1       0.92      0.88      0.90       182\n",
            "           2       0.90      0.94      0.92       177\n",
            "           3       0.92      0.92      0.92       183\n",
            "           4       0.96      0.97      0.97       181\n",
            "           5       0.94      0.92      0.93       182\n",
            "           6       0.98      0.98      0.98       181\n",
            "           7       0.87      0.99      0.92       179\n",
            "           8       0.95      0.82      0.88       174\n",
            "           9       0.87      0.87      0.87       180\n",
            "\n",
            "    accuracy                           0.93      1797\n",
            "   macro avg       0.93      0.93      0.93      1797\n",
            "weighted avg       0.93      0.93      0.93      1797\n",
            "\n"
          ],
          "name": "stdout"
        }
      ]
    }
  ]
}