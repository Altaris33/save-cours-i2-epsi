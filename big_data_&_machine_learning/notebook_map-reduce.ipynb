{
  "cells": [
    {
      "metadata": {},
      "cell_type": "markdown",
      "source": [
        "## Import des modules et installation"
      ]
    },
    {
      "metadata": {
        "trusted": true
      },
      "cell_type": "code",
      "source": [
        "import matplotlib.pyplot as plt"
      ],
      "execution_count": 8,
      "outputs": []
    },
    {
      "metadata": {
        "trusted": true
      },
      "cell_type": "code",
      "source": [
        "!pip install pyspark"
      ],
      "execution_count": 9,
      "outputs": [
        {
          "output_type": "stream",
          "text": "Collecting pyspark\n\u001b[?25l  Downloading https://files.pythonhosted.org/packages/9a/5a/271c416c1c2185b6cb0151b29a91fff6fcaed80173c8584ff6d20e46b465/pyspark-2.4.5.tar.gz (217.8MB)\n\u001b[K     |████████████████████████████████| 217.8MB 1.5kB/s eta 0:00:011              | 21.4MB 12.7MB/s eta 0:00:16     |███▋                            | 24.4MB 1.8MB/s eta 0:01:48     |███▊                            | 25.7MB 1.8MB/s eta 0:01:48     |█████▌                          | 37.6MB 4.6MB/s eta 0:00:40��█████▉                      | 67.2MB 370kB/s eta 0:06:47 311kB/s eta 0:07:56.8MB 311kB/s eta 0:07:53.8MB 3.4MB/s eta 0:00:44.1MB 3.4MB/s eta 0:00:43.6MB 8.6MB/s eta 0:00:17��█████▍                    | 77.6MB 8.6MB/s eta 0:00:17��█████▌                    | 78.6MB 3.5MB/s eta 0:00:40��██████                    | 81.0MB 3.5MB/s eta 0:00:39kB/s eta 0:13:19 3.7MB/s eta 0:00:32 3.7MB/s eta 0:00:32 3.7MB/s eta 0:00:32           | 102.3MB 3.7MB/s eta 0:00:32��█▏                | 102.9MB 47.4MB/s eta 0:00:03�██████████▎                | 104.2MB 47.4MB/s eta 0:00:03�██████████▌                | 105.3MB 47.4MB/s eta 0:00:03�██████████▌                | 105.8MB 47.4MB/s eta 0:00:03�██████████▋                | 106.2MB 47.4MB/s eta 0:00:03�██████████▊                | 107.1MB 47.4MB/s eta 0:00:034MB/s eta 0:00:18█████                | 109.3MB 6.4MB/s eta 0:00:18    |████████████████▎               | 110.9MB 6.4MB/s eta 0:00:17    |████████████████▌               | 112.5MB 3.1MB/s eta 0:00:34    |████████████████▊               | 113.6MB 3.1MB/s eta 0:00:34    |████████████████▉               | 114.8MB 351kB/s eta 0:04:53    | 116.9MB 351kB/s eta 0:04:47��█▌              | 118.8MB 11.2MB/s eta 0:00:09��█▋              | 119.9MB 11.2MB/s eta 0:00:09��█▊              | 120.8MB 11.2MB/s eta 0:00:09��██████████████▎             | 124.4MB 12.7MB/s eta 0:00:08��██████████████▌             | 126.1MB 12.7MB/s eta 0:00:08��██████████████▋             | 126.8MB 12.7MB/s eta 0:00:08��██████████████▊             | 127.1MB 12.7MB/s eta 0:00:08��██████████████▊             | 127.5MB 12.7MB/s eta 0:00:08��████████▉             | 128.1MB 1.8MB/s eta 0:00:51�████████████▏            | 130.1MB 1.8MB/s eta 0:00:50�██████████▏            | 130.7MB 1.8MB/s eta 0:00:50[K     |███████████████████▎            | 131.2MB 1.8MB/s eta 0:00:50     |███████████████████▌            | 132.9MB 1.8MB/s eta 0:00:49[K     |███████████████████▋            | 133.3MB 364kB/s eta 0:03:52[K     |████████████████████            | 135.4MB 364kB/s eta 0:03:47     |████████████████████            | 136.7MB 364kB/s eta 0:03:43�████████▋           | 140.5MB 3.4MB/s eta 0:00:23     | 142.0MB 3.4MB/s eta 0:00:23     | 142.3MB 3.4MB/s eta 0:00:23     | 143.6MB 3.4MB/s eta 0:00:22�█████████▏          | 144.0MB 433kB/s eta 0:02:51�█████████▍          | 145.3MB 433kB/s eta 0:02:486.5MB 433kB/s eta 0:02:45�█████████▊          | 147.8MB 433kB/s eta 0:02:42�█████████▊          | 148.1MB 457kB/s eta 0:02:33�██████████          | 149.5MB 457kB/s eta 0:02:30��█████████████████████▏         | 150.9MB 457kB/s eta 0:02:27��█████████████████████▍         | 152.5MB 395kB/s eta 0:02:46��██████████▌         | 153.0MB 395kB/s eta 0:02:44��█████████████████████▊         | 154.3MB 395kB/s eta 0:02:411MB 284kB/s eta 0:03:315MB 284kB/s eta 0:03:297MB 284kB/s eta 0:03:250MB 400kB/s eta 0:02:17██████▍       | 165.7MB 862kB/s eta 0:01:01██████▌       | 166.9MB 862kB/s eta 0:01:00██████▊       | 168.4MB 862kB/s eta 0:00:58███████       | 169.4MB 862kB/s eta 0:00:57███████       | 170.2MB 862kB/s eta 0:00:56███████████████████████▏      | 171.1MB 13.4MB/s eta 0:00:04�████████████████▍      | 172.6MB 13.4MB/s eta 0:00:04███████████████████████▌      | 173.3MB 13.4MB/s eta 0:00:04��███████████████████▋      | 174.6MB 1.5MB/s eta 0:00:30��█████████████████▊      | 175.4MB 1.5MB/s eta 0:00:30███████▉      | 176.0MB 1.5MB/s eta 0:00:29��██████████████████      | 176.8MB 1.5MB/s eta 0:00:29��██████████████████      | 177.4MB 1.5MB/s eta 0:00:28MB/s eta 0:00:02MB/s eta 0:00:02MB/s eta 0:00:02MB/s eta 0:00:02MB/s eta 0:00:03MB/s eta 0:00:03MB/s eta 0:00:03MB/s eta 0:00:03█████████████████▏    | 184.7MB 13.2MB/s eta 0:00:03   | 185.9MB 305kB/s eta 0:01:45�█████████▍    | 186.7MB 305kB/s eta 0:01:43   | 187.6MB 305kB/s eta 0:01:39   | 187.9MB 305kB/s eta 0:01:38   | 189.1MB 305kB/s eta 0:01:34   | 190.0MB 305kB/s eta 0:01:32��█████████▎   | 192.2MB 4.5MB/s eta 0:00:06��█████████▌   | 194.3MB 260kB/s eta 0:01:31��█████████▋   | 195.1MB 260kB/s eta 0:01:28[K     |████████████████████████████▊   | 195.5MB 260kB/s eta 0:01:26��██████████   | 196.7MB 260kB/s eta 0:01:22[K     |█████████████████████████████   | 197.2MB 260kB/s eta 0:01:20��████████████████████▍  | 199.7MB 355kB/s eta 0:00:52��████████████████████▌  | 200.6MB 355kB/s eta 0:00:49█████████▋  | 201.9MB 355kB/s eta 0:00:45██████▊  | 202.5MB 355kB/s eta 0:00:44██████████  | 203.6MB 2.0MB/s eta 0:00:08██████████  | 204.9MB 2.0MB/s eta 0:00:07ta 0:00:02ta 0:00:01ta 0:00:01ta 0:00:01.3MB/s eta 0:00:023.2MB 3.3MB/s eta 0:00:025.2MB 403kB/s eta 0:00:07��██████████████████████▉| 216.6MB 403kB/s eta 0:00:03��███| 217.1MB 403kB/s eta 0:00:02\n\u001b[?25hCollecting py4j==0.10.7\n\u001b[?25l  Downloading https://files.pythonhosted.org/packages/e3/53/c737818eb9a7dc32a7cd4f1396e787bd94200c3997c72c1dbe028587bd76/py4j-0.10.7-py2.py3-none-any.whl (197kB)\n\u001b[K     |████████████████████████████████| 204kB 9.8MB/s eta 0:00:01\n\u001b[?25hBuilding wheels for collected packages: pyspark\n  Building wheel for pyspark (setup.py) ... \u001b[?25ldone\n\u001b[?25h  Created wheel for pyspark: filename=pyspark-2.4.5-py2.py3-none-any.whl size=218258958 sha256=a75389ccc24a090e5b321fc8b7129b264d6c35089e1d706c0ea490947d2fdbc3\n  Stored in directory: /home/nbuser/.cache/pip/wheels/bf/db/04/61d66a5939364e756eb1c1be4ec5bdce6e04047fc7929a3c3c\nSuccessfully built pyspark\nInstalling collected packages: py4j, pyspark\nSuccessfully installed py4j-0.10.7 pyspark-2.4.5\n\u001b[33mWARNING: You are using pip version 19.3.1; however, version 20.0.2 is available.\nYou should consider upgrading via the 'pip install --upgrade pip' command.\u001b[0m\n",
          "name": "stdout"
        }
      ]
    },
    {
      "metadata": {
        "trusted": true
      },
      "cell_type": "code",
      "source": [
        "from pyspark import SparkContext\n",
        "sc = SparkContext('local', 'pyspark tutorial') "
      ],
      "execution_count": 10,
      "outputs": []
    },
    {
      "metadata": {},
      "cell_type": "markdown",
      "source": [
        "## Exemple : opérations Map et Reduce"
      ]
    },
    {
      "metadata": {
        "trusted": true
      },
      "cell_type": "code",
      "source": [
        "temp_c = [10, 3, -5, 25, 1, 9, 29, -10, 5]\n",
        "rdd_temp_c = sc.parallelize(temp_c) ## transforme le tableau en RDD\n",
        "rdd_temp_K = rdd_temp_c.map(lambda x: x + 273.15).collect() ## collect() retourne une liste representant les donnees contenues dans le RDD\n",
        "print(rdd_temp_K)"
      ],
      "execution_count": 11,
      "outputs": [
        {
          "output_type": "stream",
          "text": "[283.15, 276.15, 268.15, 298.15, 274.15, 282.15, 302.15, 263.15, 278.15]\n",
          "name": "stdout"
        }
      ]
    },
    {
      "metadata": {
        "trusted": true
      },
      "cell_type": "code",
      "source": [
        "# on a une liste de clients et de prix (on veut calculer le max pour chaque client)\n",
        "numbers = [('A',1),('A',4),('B',6),('B',2),('A',9), ('B',10)]\n",
        "\n",
        "rdd_numbers = sc.parallelize(numbers) ## on transforme la liste en RDD\n",
        "rdd_reduce = rdd_numbers.reduceByKey(lambda x,y:max(x,y)) ## on fait un reduce par client\n",
        "rdd_reduce.take(3)"
      ],
      "execution_count": 25,
      "outputs": [
        {
          "output_type": "execute_result",
          "execution_count": 25,
          "data": {
            "text/plain": "[('B', 10), ('A', 9)]"
          },
          "metadata": {}
        }
      ]
    },
    {
      "metadata": {},
      "cell_type": "markdown",
      "source": [
        "## Exemple : wordcount\n",
        "\n",
        "Importation du fichier \"ulysses.txt\" (début de \"Ulysses\" de James Joyce)"
      ]
    },
    {
      "metadata": {
        "trusted": true
      },
      "cell_type": "code",
      "source": [
        "lines_rdd = sc.textFile(\"ulysses.txt\")"
      ],
      "execution_count": 13,
      "outputs": []
    },
    {
      "metadata": {
        "trusted": true
      },
      "cell_type": "code",
      "source": [
        "nonempty_lines = lines_rdd.filter(lambda x: len(x) > 0) ## filtre les valeurs pour ne garder que les lignes non vides"
      ],
      "execution_count": 14,
      "outputs": []
    },
    {
      "metadata": {
        "trusted": true
      },
      "cell_type": "code",
      "source": [
        "words = nonempty_lines.flatMap(lambda x: x.split(' ')) ## flatMap permet de retourner 0, 1 ou plusieurs valeurs pour chaque élément"
      ],
      "execution_count": 15,
      "outputs": []
    },
    {
      "metadata": {
        "trusted": true
      },
      "cell_type": "code",
      "source": [
        "wordmap = words.map(lambda word:(word,1))"
      ],
      "execution_count": 16,
      "outputs": []
    },
    {
      "metadata": {
        "trusted": true
      },
      "cell_type": "code",
      "source": [
        "wordreduce = wordmap.reduceByKey(lambda x,y: x + y) ## reduceByKey fait un reduce different pour chaque clé"
      ],
      "execution_count": 17,
      "outputs": []
    },
    {
      "metadata": {
        "trusted": true
      },
      "cell_type": "code",
      "source": [
        "wordordered = wordreduce.map(lambda x: (x[1],x[0])).sortByKey(False) ## sortByKey(False) ordonne le RDD par ordre de clé décroissant\n",
        "## wordreduce.sort(x[1]) a checker\n",
        "## ou top(20, lambda x:x[1])"
      ],
      "execution_count": 2,
      "outputs": [
        {
          "output_type": "error",
          "ename": "NameError",
          "evalue": "name 'wordreduce' is not defined",
          "traceback": [
            "\u001b[0;31m---------------------------------------------------------------------------\u001b[0m",
            "\u001b[0;31mNameError\u001b[0m                                 Traceback (most recent call last)",
            "\u001b[0;32m<ipython-input-2-9b0d07c1d0d0>\u001b[0m in \u001b[0;36m<module>\u001b[0;34m()\u001b[0m\n\u001b[0;32m----> 1\u001b[0;31m \u001b[0mwordordered\u001b[0m \u001b[0;34m=\u001b[0m \u001b[0mwordreduce\u001b[0m\u001b[0;34m.\u001b[0m\u001b[0mmap\u001b[0m\u001b[0;34m(\u001b[0m\u001b[0;32mlambda\u001b[0m \u001b[0mx\u001b[0m\u001b[0;34m:\u001b[0m \u001b[0;34m(\u001b[0m\u001b[0mx\u001b[0m\u001b[0;34m[\u001b[0m\u001b[0;36m1\u001b[0m\u001b[0;34m]\u001b[0m\u001b[0;34m,\u001b[0m\u001b[0mx\u001b[0m\u001b[0;34m[\u001b[0m\u001b[0;36m0\u001b[0m\u001b[0;34m]\u001b[0m\u001b[0;34m)\u001b[0m\u001b[0;34m)\u001b[0m\u001b[0;34m.\u001b[0m\u001b[0msortByKey\u001b[0m\u001b[0;34m(\u001b[0m\u001b[0;32mFalse\u001b[0m\u001b[0;34m)\u001b[0m \u001b[0;31m## sortByKey(False) ordonne le RDD par ordre de clé décroissant\u001b[0m\u001b[0;34m\u001b[0m\u001b[0m\n\u001b[0m\u001b[1;32m      2\u001b[0m \u001b[0;31m## wordreduce.sort(x[1]) a checker\u001b[0m\u001b[0;34m\u001b[0m\u001b[0;34m\u001b[0m\u001b[0m\n",
            "\u001b[0;31mNameError\u001b[0m: name 'wordreduce' is not defined"
          ]
        }
      ]
    },
    {
      "metadata": {
        "trusted": true
      },
      "cell_type": "code",
      "source": [
        "wordordered.take(50) ## affiche les 50 premiers termes"
      ],
      "execution_count": 19,
      "outputs": [
        {
          "output_type": "execute_result",
          "execution_count": 19,
          "data": {
            "text/plain": "[(47, 'the'),\n (34, 'and'),\n (18, 'a'),\n (18, 'he'),\n (18, 'his'),\n (16, 'to'),\n (14, 'He'),\n (12, 'in'),\n (11, 'on'),\n (10, 'of'),\n (8, 'Stephen'),\n (8, 'over'),\n (7, 'you'),\n (7, 'Mulligan'),\n (7, 'Buck'),\n (7, 'with'),\n (6, 'said'),\n (6, 'is'),\n (5, 'about'),\n (5, 'A'),\n (5, 'from'),\n (5, 'him'),\n (4, 'bowl'),\n (4, 'You'),\n (4, 'at'),\n (4, 'down'),\n (4, 'Dedalus,'),\n (4, 'I'),\n (4, 'out'),\n (4, 'The'),\n (4, 'said.'),\n (3, 'up,'),\n (3, '�The'),\n (3, 'my'),\n (3, 'up'),\n (3, 'must'),\n (3, 'here'),\n (3, 'looked'),\n (3, 'mirror'),\n (3, 'your'),\n (3, 'went'),\n (3, 'came'),\n (2, 'face'),\n (2, 'was'),\n (2, 'sea.'),\n (2, 'dark'),\n (2, 'name'),\n (2, 'parapet,'),\n (2, 'you?'),\n (2, 'not')]"
          },
          "metadata": {}
        }
      ]
    },
    {
      "metadata": {},
      "cell_type": "markdown",
      "source": [
        "## Exercices"
      ]
    },
    {
      "metadata": {},
      "cell_type": "markdown",
      "source": [
        "### Exercice 1\n",
        "Ecrire un programme Map/Reduce qui compte le nombre de mots de chaque longueur présente dans le texte (la fonction len(x) retourne la longueur de la chaine x). Afficher un histogramme avec matplotlib."
      ]
    },
    {
      "metadata": {
        "trusted": true
      },
      "cell_type": "code",
      "source": [],
      "execution_count": null,
      "outputs": []
    },
    {
      "metadata": {
        "trusted": true
      },
      "cell_type": "code",
      "source": [],
      "execution_count": null,
      "outputs": []
    },
    {
      "metadata": {},
      "cell_type": "markdown",
      "source": [
        "### Exercice 2\n",
        "Ecrire un programme Map/Reduce qui compte le nombre de mots de 1 à 5 caractères (inclus), de 6 à 10 caractères (inclus), de 11 à 15 caractères (inclus), de plus de 15 caractères. Remarque : si on génère plusieurs sorties, leur ordre doit être celui des sous-ensembles de longueur de mots."
      ]
    },
    {
      "metadata": {
        "trusted": true
      },
      "cell_type": "code",
      "source": [],
      "execution_count": null,
      "outputs": []
    },
    {
      "metadata": {},
      "cell_type": "markdown",
      "source": [
        "### Exercice 3\n",
        "Obtenir les listes de mots de 1 à 5 caractères (inclus), de 6 à 10 caractères (inclus), de 11 à 15 caractères (inclus) et de plus de 15 caractères présents dans le texte. Il n’est pas demandé de trier les mots à l’intérieur d’une liste, ni d’éliminer les doublons."
      ]
    },
    {
      "metadata": {
        "trusted": true
      },
      "cell_type": "code",
      "source": [],
      "execution_count": null,
      "outputs": []
    },
    {
      "metadata": {
        "trusted": true
      },
      "cell_type": "code",
      "source": [],
      "execution_count": null,
      "outputs": []
    }
  ],
  "metadata": {
    "kernelspec": {
      "name": "python3",
      "display_name": "Python 3",
      "language": "python"
    },
    "language_info": {
      "mimetype": "text/x-python",
      "nbconvert_exporter": "python",
      "name": "python",
      "pygments_lexer": "ipython3",
      "version": "3.5.4",
      "file_extension": ".py",
      "codemirror_mode": {
        "version": 3,
        "name": "ipython"
      }
    }
  },
  "nbformat": 4,
  "nbformat_minor": 2
}